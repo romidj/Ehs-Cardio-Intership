{
  "nbformat": 4,
  "nbformat_minor": 0,
  "metadata": {
    "colab": {
      "provenance": [],
      "authorship_tag": "ABX9TyPVnQeCshTL3SH3Q8fcTcyT",
      "include_colab_link": true
    },
    "kernelspec": {
      "name": "python3",
      "display_name": "Python 3"
    },
    "language_info": {
      "name": "python"
    }
  },
  "cells": [
    {
      "cell_type": "markdown",
      "metadata": {
        "id": "view-in-github",
        "colab_type": "text"
      },
      "source": [
        "<a href=\"https://colab.research.google.com/github/romidj/Ehs-Cardio-Intership/blob/main/scaping.ipynb\" target=\"_parent\"><img src=\"https://colab.research.google.com/assets/colab-badge.svg\" alt=\"Open In Colab\"/></a>"
      ]
    },
    {
      "cell_type": "markdown",
      "source": [],
      "metadata": {
        "id": "2QLR5AFFYaEo"
      }
    },
    {
      "cell_type": "code",
      "execution_count": 1,
      "metadata": {
        "id": "IfipKQr_gdNd"
      },
      "outputs": [],
      "source": [
        "import requests"
      ]
    },
    {
      "cell_type": "code",
      "source": [
        "from bs4 import BeautifulSoup"
      ],
      "metadata": {
        "id": "0va3yTIJjGQU"
      },
      "execution_count": 2,
      "outputs": []
    },
    {
      "cell_type": "code",
      "source": [
        "import pandas as pd"
      ],
      "metadata": {
        "id": "HWiStLcTNgIu"
      },
      "execution_count": 3,
      "outputs": []
    },
    {
      "cell_type": "code",
      "source": [
        "import requests\n",
        "from bs4 import BeautifulSoup\n",
        "import pandas as pd\n",
        "avocats = []\n",
        "\n",
        "\n",
        "for i in range (1,45):\n",
        "  url = f\"https://avocatalgerien.com/listings/category/code-bancaire/page/{i}/\"\n",
        "  response = requests.get(url)\n",
        "  response = response.content\n",
        "  soup = BeautifulSoup( response,'html.parser')\n",
        "  liste = soup.find('div',class_='list')\n",
        "  article = liste.find_all('article')\n",
        "\n",
        "  for art in article:\n",
        "     nom_prenom = art.find('h2',class_='entry-title')\n",
        "     nom_prenom = nom_prenom.text.strip()\n",
        "     stars = art.find('div',class_='stars-cont')\n",
        "     stars_div = stars.find('div', class_='stars')\n",
        "     etoile = stars_div['class'][1]\n",
        "     etoile = etoile[6:]\n",
        "     competences = art.find('p',class_='listing-cat')\n",
        "     competences = competences.text.strip()[12:]\n",
        "     phone = art.find('p',class_='listing-phone')\n",
        "     phone = phone.text.strip()[5:]\n",
        "     adr = art.find('p',class_='listing-address')\n",
        "     adr = adr.text.strip()\n",
        "     avocats.append([ nom_prenom  ])\n",
        "\n",
        "\n",
        "\n"
      ],
      "metadata": {
        "id": "_RfowKDKpUI_"
      },
      "execution_count": 4,
      "outputs": []
    },
    {
      "cell_type": "code",
      "source": [
        "df = pd.DataFrame(avocats , columns=[ nom_prenom  ])"
      ],
      "metadata": {
        "id": "C4PA5USxAEW1"
      },
      "execution_count": 6,
      "outputs": []
    },
    {
      "cell_type": "code",
      "source": [
        "df.to_json('loyer.json')"
      ],
      "metadata": {
        "id": "NaLCehgO__vi"
      },
      "execution_count": 7,
      "outputs": []
    },
    {
      "cell_type": "code",
      "source": [
        "import requests\n",
        "from bs4 import BeautifulSoup\n",
        "import pandas as pd\n",
        "categories = []\n",
        "url = f\"https://avocatalgerien.com/categories/\"\n",
        "response = requests.get(url)\n",
        "response = response.content\n",
        "soup = BeautifulSoup( response,'html.parser')\n",
        "categories_div = soup.find('div', class_='categories-list')\n",
        "\n",
        "# Find all anchor tags within the div\n",
        "category_links = categories_div.find_all('a')\n",
        "\n",
        "# Extract and print the category names\n",
        "for link in category_links:\n",
        "    category_name = link.text.strip()\n",
        "    categories.append([category_name])\n",
        "print(categories)\n"
      ],
      "metadata": {
        "colab": {
          "base_uri": "https://localhost:8080/"
        },
        "id": "7v4jFLV_0WEE",
        "outputId": "8f051483-5a4f-4927-b697-2239dbf8675b"
      },
      "execution_count": 5,
      "outputs": [
        {
          "output_type": "stream",
          "name": "stdout",
          "text": [
            "[['Droit administratif'], ['Droit Affaires'], ['Droit bancaire'], ['Droit civil'], ['Droit commercial'], ['Droit de fusions et acquisitions'], [\"Droit de l'environnement\"], [\"Droit de l'immigration\"], [\"Droit de l'immobilier\"], ['Droit de la consommation'], ['Droit de la presse'], ['Droit de la propriété intellectuelle'], ['Droit de la santé'], ['Droit des assurances'], ['Droit des contrats'], ['Droit des énergies'], ['Droit des entreprises'], ['Droit des étrangers'], ['Droit des fusions et acquisitions'], ['Droit des investissements'], ['Droit des privatisations'], ['Droit des recouvrement de créances'], ['Droit des sociétés'], ['Droit des Telecom/TIC'], ['Droit des transports'], ['droit douanier'], ['Droit du sport'], ['Droit du travail'], ['Droit familial'], ['Droit foncier'], ['Droit international privé'], ['Droit judiciaire'], ['Droit maritime'], ['Droit pénal'], ['Droit routier'], ['Droit social'], [\"Droits de l'homme\"]]\n"
          ]
        }
      ]
    },
    {
      "cell_type": "code",
      "source": [
        "df = pd.DataFrame(categories, columns=[category_name])"
      ],
      "metadata": {
        "id": "8w_XHUmrNvUD"
      },
      "execution_count": 11,
      "outputs": []
    },
    {
      "cell_type": "code",
      "source": [
        "df.to_csv('catigory.jason')"
      ],
      "metadata": {
        "id": "KmXqkzC4OJTo"
      },
      "execution_count": 13,
      "outputs": []
    }
  ]
}